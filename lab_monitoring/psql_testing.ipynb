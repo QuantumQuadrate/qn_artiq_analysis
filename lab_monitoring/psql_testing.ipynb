{
 "cells": [
  {
   "cell_type": "code",
   "execution_count": 84,
   "id": "902ee3be-32b2-4e80-a217-558ccfd7dba2",
   "metadata": {},
   "outputs": [],
   "source": [
    "import psycopg2 as pg\n",
    "from configparser import ConfigParser\n",
    "import time\n",
    "import datetime as dt\n",
    "import csv # in case we want to export some of the data\n",
    "import sys,os\n",
    "import numpy as np\n",
    "import matplotlib.pyplot as plt\n",
    "\n",
    "goodlogger_dir = \"C:\\\\Users\\\\QC\\OneDrive - UW-Madison\\\\Documents\\\\LabSoftware\\\\GOOD_logger\"\n",
    "\n",
    "cp = ConfigParser()\n",
    "cp.read(os.path.join(goodlogger_dir,\"my_config.cfg\"))\n",
    "conn_params = {'database':cp['DATABASE_SETUP']['Database'],\n",
    "                'host':cp['DATABASE_SETUP']['Host'],\n",
    "                'user':cp['DATABASE_SETUP']['User'],\n",
    "                'password':cp['DATABASE_SETUP']['Password'],\n",
    "                'port':cp['DATABASE_SETUP']['Port']}\n",
    "\n",
    "def get_data_in_time_interval(table, column_names, t_start, t_end):\n",
    "    database = pg.connect(**conn_params)\n",
    "    cur = database.cursor()\n",
    "\n",
    "    t1 = t_start.timestamp()\n",
    "    t2 = t_end.timestamp() \n",
    "\n",
    "    column_names = ['time'] + column_names\n",
    "\n",
    "    cur.execute(f\"SELECT {', '.join(column_names)} FROM {table} where time between {t1} and {t2}\")\n",
    "    row = cur.fetchone()\n",
    "    rows = []\n",
    "    while row is not None:\n",
    "        rows.append([float(x) for x in row])\n",
    "        row = cur.fetchone()\n",
    "    return np.array(rows)\n",
    "\n",
    "def get_data_most_recent(table, column_names, nrows):\n",
    "    database = pg.connect(**conn_params)\n",
    "    cur = database.cursor()\n",
    "\n",
    "    column_names = ['time'] + column_names\n",
    "\n",
    "    cur.execute(f\"SELECT {', '.join(column_names)} FROM {table} ORDER BY time DESC LIMIT {nrows}\")\n",
    "    row = cur.fetchone()\n",
    "    rows = []\n",
    "    while row is not None:\n",
    "        rows.append([float(x) for x in row])\n",
    "        row = cur.fetchone()\n",
    "    return np.array(rows)"
   ]
  },
  {
   "cell_type": "markdown",
   "id": "88cbd2f3-50bb-43ce-8df6-b4c199ac63eb",
   "metadata": {},
   "source": [
    "## examples of getting data"
   ]
  },
  {
   "cell_type": "code",
   "execution_count": 80,
   "id": "8333af4e-a284-4d2b-bb18-88a646c08f4e",
   "metadata": {},
   "outputs": [],
   "source": [
    "def get_data_in_time_interval(table, column_names, t_start, t_end):\n",
    "    database = pg.connect(**conn_params)\n",
    "    cur = database.cursor()\n",
    "\n",
    "    t1 = t_start.timestamp()\n",
    "    t2 = t_end.timestamp() \n",
    "\n",
    "    column_names = ['time'] + column_names\n",
    "\n",
    "    cur.execute(f\"SELECT {', '.join(column_names)} FROM {table} where time between {t1} and {t2}\")\n",
    "    row = cur.fetchone()\n",
    "    rows = []\n",
    "    while row is not None:\n",
    "        rows.append([float(x) for x in row])\n",
    "        row = cur.fetchone()\n",
    "    return np.array(rows)\n",
    "\n",
    "def get_data_most_recent(table, column_names, nrows):\n",
    "    database = pg.connect(**conn_params)\n",
    "    cur = database.cursor()\n",
    "\n",
    "    column_names = ['time'] + column_names\n",
    "\n",
    "    cur.execute(f\"SELECT {', '.join(column_names)} FROM {table} ORDER BY time DESC LIMIT {nrows}\")\n",
    "    row = cur.fetchone()\n",
    "    rows = []\n",
    "    while row is not None:\n",
    "        rows.append([float(x) for x in row])\n",
    "        row = cur.fetchone()\n",
    "    return np.array(rows)"
   ]
  },
  {
   "cell_type": "code",
   "execution_count": 81,
   "id": "3364684c-beaf-453b-8f5a-b3aa176079de",
   "metadata": {},
   "outputs": [
    {
     "data": {
      "text/plain": [
       "[<matplotlib.lines.Line2D at 0x12672cd2190>]"
      ]
     },
     "execution_count": 81,
     "metadata": {},
     "output_type": "execute_result"
    },
    {
     "data": {
      "image/png": "[encoded data removed]",
      "text/plain": [
       "<Figure size 640x480 with 1 Axes>"
      ]
     },
     "metadata": {},
     "output_type": "display_data"
    }
   ],
   "source": [
    "# get 10 most recent rows of data\n",
    "data =  get_data_most_recent(table='qn_labjack_channels',\n",
    "                             column_names=['ch1','ch2'],\n",
    "                             nrows=10)\n",
    "\n",
    "time, ch1, ch2 = data.transpose() # time is unix time in seconds\n",
    "plt.plot(ch1)\n",
    "plt.plot(ch2)"
   ]
  },
  {
   "cell_type": "code",
   "execution_count": 82,
   "id": "ea781979-0bf8-4531-842d-c218f00cc0c4",
   "metadata": {},
   "outputs": [
    {
     "data": {
      "text/plain": [
       "[<matplotlib.lines.Line2D at 0x12672cc8940>]"
      ]
     },
     "execution_count": 82,
     "metadata": {},
     "output_type": "execute_result"
    },
    {
     "data": {
      "image/png": "[encoded data removed]",
      "text/plain": [
       "<Figure size 640x480 with 1 Axes>"
      ]
     },
     "metadata": {},
     "output_type": "display_data"
    }
   ],
   "source": [
    "# get rows of data between specified times\n",
    "data =  get_data_in_time_interval(table='qn_labjack_channels',\n",
    "                                column_names=['ch1','ch2'],\n",
    "                                t_start=dt.datetime(2023, 10, 10, 16, 48),\n",
    "                                t_end=dt.datetime.now())\n",
    "\n",
    "time, ch1, ch2 = data.transpose() # time is unix time in seconds\n",
    "plt.plot(ch1)\n",
    "plt.plot(ch2)"
   ]
  },
  {
   "cell_type": "markdown",
   "id": "d44443e7-adad-40d5-9ac2-d81898eefa46",
   "metadata": {},
   "source": [
    "## tests - getting data with SQL queries"
   ]
  },
  {
   "cell_type": "code",
   "execution_count": 53,
   "id": "709854b5-4efc-476c-a07e-522b1fecdd2f",
   "metadata": {},
   "outputs": [
    {
     "name": "stdout",
     "output_type": "stream",
     "text": [
      "(Decimal('0.9147892594337463'), Decimal('0.4896602928638458'))\n",
      "(Decimal('0.914316713809967'), Decimal('0.48816388845443726'))\n",
      "(Decimal('0.9130566120147705'), Decimal('0.48682504892349243'))\n",
      "(Decimal('0.9047083854675293'), Decimal('0.4795006513595581'))\n",
      "(Decimal('0.9043145775794983'), Decimal('0.4790281057357788'))\n",
      "(Decimal('0.9060472249984741'), Decimal('0.4813120663166046'))\n",
      "(Decimal('0.9104576110839844'), Decimal('0.4845410883426666'))\n",
      "(Decimal('0.9147892594337463'), Decimal('0.4893452525138855'))\n",
      "(Decimal('0.9149467349052429'), Decimal('0.48903021216392517'))\n",
      "(Decimal('0.9154192805290222'), Decimal('0.4898965358734131'))\n"
     ]
    }
   ],
   "source": [
    "database = pg.connect(**conn_params)\n",
    "cur = database.cursor()\n",
    "cur.execute(\"SELECT ch1, ch2 FROM qn_labjack_channels ORDER BY time DESC LIMIT 10\")\n",
    "row = cur.fetchone()\n",
    "rows = [row]\n",
    "while row is not None:\n",
    "    print(row)\n",
    "    row = cur.fetchone()\n",
    "    rows.append(row)"
   ]
  },
  {
   "cell_type": "code",
   "execution_count": 57,
   "id": "d4a1353a-e285-4cec-8beb-2f052b46ea09",
   "metadata": {
    "scrolled": true
   },
   "outputs": [],
   "source": [
    "database = pg.connect(**conn_params)\n",
    "cur = database.cursor()\n",
    "\n",
    "table = 'qn_labjack_channels'\n",
    "column_names = ['ch1','ch2']\n",
    "nrows = 10\n",
    "cur.execute(f\"SELECT {', '.join(column_names)} FROM {table} ORDER BY time DESC LIMIT {nrows}\")\n",
    "row = cur.fetchone()\n",
    "rows = []\n",
    "while row is not None:\n",
    "    rows.append([float(x) for x in row])\n",
    "    row = cur.fetchone()"
   ]
  }
 ],
 "metadata": {
  "kernelspec": {
   "display_name": "Python 3 (ipykernel)",
   "language": "python",
   "name": "python3"
  },
  "language_info": {
   "codemirror_mode": {
    "name": "ipython",
    "version": 3
   },
   "file_extension": ".py",
   "mimetype": "text/x-python",
   "name": "python",
   "nbconvert_exporter": "python",
   "pygments_lexer": "ipython3",
   "version": "3.9.5"
  }
 },
 "nbformat": 4,
 "nbformat_minor": 5
}
